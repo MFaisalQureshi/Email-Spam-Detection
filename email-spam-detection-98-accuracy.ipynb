{
 "cells": [
  {
   "cell_type": "markdown",
   "id": "auburn-comment",
   "metadata": {
    "papermill": {
     "duration": 0.012566,
     "end_time": "2021-07-19T03:20:34.798177",
     "exception": false,
     "start_time": "2021-07-19T03:20:34.785611",
     "status": "completed"
    },
    "tags": []
   },
   "source": [
    "<img src=\"https://helpemailmarketing.com/wp-content/uploads/2019/12/spam-filter-34101a1e6c494d44aa1b6d10302537da.jpg\"  style='width:1000px'>"
   ]
  },
  {
   "cell_type": "code",
   "execution_count": 1,
   "id": "lovely-adrian",
   "metadata": {
    "_cell_guid": "b1076dfc-b9ad-4769-8c92-a6c4dae69d19",
    "_uuid": "8f2839f25d086af736a60e9eeb907d3b93b6e0e5",
    "execution": {
     "iopub.execute_input": "2021-07-19T03:20:34.830012Z",
     "iopub.status.busy": "2021-07-19T03:20:34.829426Z",
     "iopub.status.idle": "2021-07-19T03:20:34.846807Z",
     "shell.execute_reply": "2021-07-19T03:20:34.847477Z",
     "shell.execute_reply.started": "2021-06-21T08:27:20.974293Z"
    },
    "papermill": {
     "duration": 0.038176,
     "end_time": "2021-07-19T03:20:34.847881",
     "exception": false,
     "start_time": "2021-07-19T03:20:34.809705",
     "status": "completed"
    },
    "tags": []
   },
   "outputs": [
    {
     "name": "stdout",
     "output_type": "stream",
     "text": [
      "/kaggle/input/spam-email/spam.csv\n"
     ]
    }
   ],
   "source": [
    "# This Python 3 environment comes with many helpful analytics libraries installed\n",
    "# It is defined by the kaggle/python Docker image: https://github.com/kaggle/docker-python\n",
    "# For example, here's several helpful packages to load\n",
    "\n",
    "import numpy as np # linear algebra\n",
    "import pandas as pd # data processing, CSV file I/O (e.g. pd.read_csv)\n",
    "\n",
    "# Input data files are available in the read-only \"../input/\" directory\n",
    "# For example, running this (by clicking run or pressing Shift+Enter) will list all files under the input directory\n",
    "\n",
    "import os\n",
    "for dirname, _, filenames in os.walk('/kaggle/input'):\n",
    "    for filename in filenames:\n",
    "        print(os.path.join(dirname, filename))\n",
    "\n",
    "# You can write up to 20GB to the current directory (/kaggle/working/) that gets preserved as output when you create a version using \"Save & Run All\" \n",
    "# You can also write temporary files to /kaggle/temp/, but they won't be saved outside of the current session"
   ]
  },
  {
   "cell_type": "code",
   "execution_count": 2,
   "id": "handmade-clarity",
   "metadata": {
    "execution": {
     "iopub.execute_input": "2021-07-19T03:20:34.877859Z",
     "iopub.status.busy": "2021-07-19T03:20:34.877196Z",
     "iopub.status.idle": "2021-07-19T03:20:34.926770Z",
     "shell.execute_reply": "2021-07-19T03:20:34.926275Z",
     "shell.execute_reply.started": "2021-06-21T08:27:20.983329Z"
    },
    "papermill": {
     "duration": 0.065709,
     "end_time": "2021-07-19T03:20:34.926952",
     "exception": false,
     "start_time": "2021-07-19T03:20:34.861243",
     "status": "completed"
    },
    "tags": []
   },
   "outputs": [
    {
     "data": {
      "text/html": [
       "<div>\n",
       "<style scoped>\n",
       "    .dataframe tbody tr th:only-of-type {\n",
       "        vertical-align: middle;\n",
       "    }\n",
       "\n",
       "    .dataframe tbody tr th {\n",
       "        vertical-align: top;\n",
       "    }\n",
       "\n",
       "    .dataframe thead th {\n",
       "        text-align: right;\n",
       "    }\n",
       "</style>\n",
       "<table border=\"1\" class=\"dataframe\">\n",
       "  <thead>\n",
       "    <tr style=\"text-align: right;\">\n",
       "      <th></th>\n",
       "      <th>Category</th>\n",
       "      <th>Message</th>\n",
       "    </tr>\n",
       "  </thead>\n",
       "  <tbody>\n",
       "    <tr>\n",
       "      <th>0</th>\n",
       "      <td>ham</td>\n",
       "      <td>Go until jurong point, crazy.. Available only ...</td>\n",
       "    </tr>\n",
       "    <tr>\n",
       "      <th>1</th>\n",
       "      <td>ham</td>\n",
       "      <td>Ok lar... Joking wif u oni...</td>\n",
       "    </tr>\n",
       "    <tr>\n",
       "      <th>2</th>\n",
       "      <td>spam</td>\n",
       "      <td>Free entry in 2 a wkly comp to win FA Cup fina...</td>\n",
       "    </tr>\n",
       "    <tr>\n",
       "      <th>3</th>\n",
       "      <td>ham</td>\n",
       "      <td>U dun say so early hor... U c already then say...</td>\n",
       "    </tr>\n",
       "    <tr>\n",
       "      <th>4</th>\n",
       "      <td>ham</td>\n",
       "      <td>Nah I don't think he goes to usf, he lives aro...</td>\n",
       "    </tr>\n",
       "    <tr>\n",
       "      <th>...</th>\n",
       "      <td>...</td>\n",
       "      <td>...</td>\n",
       "    </tr>\n",
       "    <tr>\n",
       "      <th>5567</th>\n",
       "      <td>spam</td>\n",
       "      <td>This is the 2nd time we have tried 2 contact u...</td>\n",
       "    </tr>\n",
       "    <tr>\n",
       "      <th>5568</th>\n",
       "      <td>ham</td>\n",
       "      <td>Will ü b going to esplanade fr home?</td>\n",
       "    </tr>\n",
       "    <tr>\n",
       "      <th>5569</th>\n",
       "      <td>ham</td>\n",
       "      <td>Pity, * was in mood for that. So...any other s...</td>\n",
       "    </tr>\n",
       "    <tr>\n",
       "      <th>5570</th>\n",
       "      <td>ham</td>\n",
       "      <td>The guy did some bitching but I acted like i'd...</td>\n",
       "    </tr>\n",
       "    <tr>\n",
       "      <th>5571</th>\n",
       "      <td>ham</td>\n",
       "      <td>Rofl. Its true to its name</td>\n",
       "    </tr>\n",
       "  </tbody>\n",
       "</table>\n",
       "<p>5572 rows × 2 columns</p>\n",
       "</div>"
      ],
      "text/plain": [
       "     Category                                            Message\n",
       "0         ham  Go until jurong point, crazy.. Available only ...\n",
       "1         ham                      Ok lar... Joking wif u oni...\n",
       "2        spam  Free entry in 2 a wkly comp to win FA Cup fina...\n",
       "3         ham  U dun say so early hor... U c already then say...\n",
       "4         ham  Nah I don't think he goes to usf, he lives aro...\n",
       "...       ...                                                ...\n",
       "5567     spam  This is the 2nd time we have tried 2 contact u...\n",
       "5568      ham               Will ü b going to esplanade fr home?\n",
       "5569      ham  Pity, * was in mood for that. So...any other s...\n",
       "5570      ham  The guy did some bitching but I acted like i'd...\n",
       "5571      ham                         Rofl. Its true to its name\n",
       "\n",
       "[5572 rows x 2 columns]"
      ]
     },
     "execution_count": 2,
     "metadata": {},
     "output_type": "execute_result"
    }
   ],
   "source": [
    "data=pd.read_csv('/kaggle/input/spam-email/spam.csv')\n",
    "data"
   ]
  },
  {
   "cell_type": "code",
   "execution_count": 3,
   "id": "young-zambia",
   "metadata": {
    "execution": {
     "iopub.execute_input": "2021-07-19T03:20:34.957598Z",
     "iopub.status.busy": "2021-07-19T03:20:34.956996Z",
     "iopub.status.idle": "2021-07-19T03:20:34.959622Z",
     "shell.execute_reply": "2021-07-19T03:20:34.960220Z",
     "shell.execute_reply.started": "2021-06-21T08:27:21.019204Z"
    },
    "papermill": {
     "duration": 0.020786,
     "end_time": "2021-07-19T03:20:34.960389",
     "exception": false,
     "start_time": "2021-07-19T03:20:34.939603",
     "status": "completed"
    },
    "tags": []
   },
   "outputs": [
    {
     "data": {
      "text/plain": [
       "Index(['Category', 'Message'], dtype='object')"
      ]
     },
     "execution_count": 3,
     "metadata": {},
     "output_type": "execute_result"
    }
   ],
   "source": [
    "data.columns"
   ]
  },
  {
   "cell_type": "code",
   "execution_count": 4,
   "id": "exotic-group",
   "metadata": {
    "execution": {
     "iopub.execute_input": "2021-07-19T03:20:34.989210Z",
     "iopub.status.busy": "2021-07-19T03:20:34.988650Z",
     "iopub.status.idle": "2021-07-19T03:20:35.006404Z",
     "shell.execute_reply": "2021-07-19T03:20:35.006904Z",
     "shell.execute_reply.started": "2021-06-21T08:27:21.028491Z"
    },
    "papermill": {
     "duration": 0.033743,
     "end_time": "2021-07-19T03:20:35.007072",
     "exception": false,
     "start_time": "2021-07-19T03:20:34.973329",
     "status": "completed"
    },
    "tags": []
   },
   "outputs": [
    {
     "name": "stdout",
     "output_type": "stream",
     "text": [
      "<class 'pandas.core.frame.DataFrame'>\n",
      "RangeIndex: 5572 entries, 0 to 5571\n",
      "Data columns (total 2 columns):\n",
      " #   Column    Non-Null Count  Dtype \n",
      "---  ------    --------------  ----- \n",
      " 0   Category  5572 non-null   object\n",
      " 1   Message   5572 non-null   object\n",
      "dtypes: object(2)\n",
      "memory usage: 87.2+ KB\n"
     ]
    }
   ],
   "source": [
    "data.info()"
   ]
  },
  {
   "cell_type": "markdown",
   "id": "brilliant-while",
   "metadata": {
    "papermill": {
     "duration": 0.012918,
     "end_time": "2021-07-19T03:20:35.032798",
     "exception": false,
     "start_time": "2021-07-19T03:20:35.019880",
     "status": "completed"
    },
    "tags": []
   },
   "source": [
    "**Dropped The Column Unnamed: 0**"
   ]
  },
  {
   "cell_type": "code",
   "execution_count": 5,
   "id": "bacterial-duplicate",
   "metadata": {
    "execution": {
     "iopub.execute_input": "2021-07-19T03:20:35.067065Z",
     "iopub.status.busy": "2021-07-19T03:20:35.066366Z",
     "iopub.status.idle": "2021-07-19T03:20:35.070573Z",
     "shell.execute_reply": "2021-07-19T03:20:35.070088Z",
     "shell.execute_reply.started": "2021-06-21T08:27:21.0495Z"
    },
    "papermill": {
     "duration": 0.024672,
     "end_time": "2021-07-19T03:20:35.070706",
     "exception": false,
     "start_time": "2021-07-19T03:20:35.046034",
     "status": "completed"
    },
    "tags": []
   },
   "outputs": [
    {
     "data": {
      "text/plain": [
       "Category    0\n",
       "Message     0\n",
       "dtype: int64"
      ]
     },
     "execution_count": 5,
     "metadata": {},
     "output_type": "execute_result"
    }
   ],
   "source": [
    "data.isna().sum()"
   ]
  },
  {
   "cell_type": "code",
   "execution_count": 6,
   "id": "absolute-encoding",
   "metadata": {
    "execution": {
     "iopub.execute_input": "2021-07-19T03:20:35.099940Z",
     "iopub.status.busy": "2021-07-19T03:20:35.099366Z",
     "iopub.status.idle": "2021-07-19T03:20:35.113169Z",
     "shell.execute_reply": "2021-07-19T03:20:35.112539Z",
     "shell.execute_reply.started": "2021-06-21T08:27:21.067038Z"
    },
    "papermill": {
     "duration": 0.029388,
     "end_time": "2021-07-19T03:20:35.113317",
     "exception": false,
     "start_time": "2021-07-19T03:20:35.083929",
     "status": "completed"
    },
    "tags": []
   },
   "outputs": [
    {
     "data": {
      "text/html": [
       "<div>\n",
       "<style scoped>\n",
       "    .dataframe tbody tr th:only-of-type {\n",
       "        vertical-align: middle;\n",
       "    }\n",
       "\n",
       "    .dataframe tbody tr th {\n",
       "        vertical-align: top;\n",
       "    }\n",
       "\n",
       "    .dataframe thead th {\n",
       "        text-align: right;\n",
       "    }\n",
       "</style>\n",
       "<table border=\"1\" class=\"dataframe\">\n",
       "  <thead>\n",
       "    <tr style=\"text-align: right;\">\n",
       "      <th></th>\n",
       "      <th>Category</th>\n",
       "      <th>Message</th>\n",
       "      <th>Spam</th>\n",
       "    </tr>\n",
       "  </thead>\n",
       "  <tbody>\n",
       "    <tr>\n",
       "      <th>0</th>\n",
       "      <td>ham</td>\n",
       "      <td>Go until jurong point, crazy.. Available only ...</td>\n",
       "      <td>0</td>\n",
       "    </tr>\n",
       "    <tr>\n",
       "      <th>1</th>\n",
       "      <td>ham</td>\n",
       "      <td>Ok lar... Joking wif u oni...</td>\n",
       "      <td>0</td>\n",
       "    </tr>\n",
       "    <tr>\n",
       "      <th>2</th>\n",
       "      <td>spam</td>\n",
       "      <td>Free entry in 2 a wkly comp to win FA Cup fina...</td>\n",
       "      <td>1</td>\n",
       "    </tr>\n",
       "    <tr>\n",
       "      <th>3</th>\n",
       "      <td>ham</td>\n",
       "      <td>U dun say so early hor... U c already then say...</td>\n",
       "      <td>0</td>\n",
       "    </tr>\n",
       "    <tr>\n",
       "      <th>4</th>\n",
       "      <td>ham</td>\n",
       "      <td>Nah I don't think he goes to usf, he lives aro...</td>\n",
       "      <td>0</td>\n",
       "    </tr>\n",
       "  </tbody>\n",
       "</table>\n",
       "</div>"
      ],
      "text/plain": [
       "  Category                                            Message  Spam\n",
       "0      ham  Go until jurong point, crazy.. Available only ...     0\n",
       "1      ham                      Ok lar... Joking wif u oni...     0\n",
       "2     spam  Free entry in 2 a wkly comp to win FA Cup fina...     1\n",
       "3      ham  U dun say so early hor... U c already then say...     0\n",
       "4      ham  Nah I don't think he goes to usf, he lives aro...     0"
      ]
     },
     "execution_count": 6,
     "metadata": {},
     "output_type": "execute_result"
    }
   ],
   "source": [
    "data['Spam']=data['Category'].apply(lambda x:1 if x=='spam' else 0)\n",
    "data.head(5)"
   ]
  },
  {
   "cell_type": "code",
   "execution_count": 7,
   "id": "representative-image",
   "metadata": {
    "execution": {
     "iopub.execute_input": "2021-07-19T03:20:35.145129Z",
     "iopub.status.busy": "2021-07-19T03:20:35.144508Z",
     "iopub.status.idle": "2021-07-19T03:20:36.098570Z",
     "shell.execute_reply": "2021-07-19T03:20:36.099077Z",
     "shell.execute_reply.started": "2021-06-21T08:27:21.089708Z"
    },
    "papermill": {
     "duration": 0.972138,
     "end_time": "2021-07-19T03:20:36.099260",
     "exception": false,
     "start_time": "2021-07-19T03:20:35.127122",
     "status": "completed"
    },
    "tags": []
   },
   "outputs": [],
   "source": [
    "from sklearn.model_selection import train_test_split\n",
    "X_train,X_test,y_train,y_test=train_test_split(data.Message,data.Spam,test_size=0.25)"
   ]
  },
  {
   "cell_type": "code",
   "execution_count": 8,
   "id": "basic-remains",
   "metadata": {
    "execution": {
     "iopub.execute_input": "2021-07-19T03:20:36.141065Z",
     "iopub.status.busy": "2021-07-19T03:20:36.140076Z",
     "iopub.status.idle": "2021-07-19T03:20:36.158508Z",
     "shell.execute_reply": "2021-07-19T03:20:36.157987Z",
     "shell.execute_reply.started": "2021-06-21T08:27:21.101454Z"
    },
    "papermill": {
     "duration": 0.038138,
     "end_time": "2021-07-19T03:20:36.158645",
     "exception": false,
     "start_time": "2021-07-19T03:20:36.120507",
     "status": "completed"
    },
    "tags": []
   },
   "outputs": [],
   "source": [
    "#CounterVectorizer Convert the text into matrics\n",
    "from sklearn.feature_extraction.text import CountVectorizer"
   ]
  },
  {
   "cell_type": "markdown",
   "id": "requested-cartridge",
   "metadata": {
    "papermill": {
     "duration": 0.014189,
     "end_time": "2021-07-19T03:20:36.187012",
     "exception": false,
     "start_time": "2021-07-19T03:20:36.172823",
     "status": "completed"
    },
    "tags": []
   },
   "source": [
    "**Naive Bayes Have three Classifier(Bernouli,Multinominal,Gaussian)\n",
    "Here I use Multinominal Bayes Because here data in a discrete form \n",
    "discrete data(e.g movie ratings ranging  1 to 5 as each rating will have certain frequency to represent)**"
   ]
  },
  {
   "cell_type": "code",
   "execution_count": 9,
   "id": "naughty-tunnel",
   "metadata": {
    "execution": {
     "iopub.execute_input": "2021-07-19T03:20:36.221183Z",
     "iopub.status.busy": "2021-07-19T03:20:36.220319Z",
     "iopub.status.idle": "2021-07-19T03:20:36.227611Z",
     "shell.execute_reply": "2021-07-19T03:20:36.227056Z",
     "shell.execute_reply.started": "2021-06-21T08:27:21.127559Z"
    },
    "papermill": {
     "duration": 0.026421,
     "end_time": "2021-07-19T03:20:36.227738",
     "exception": false,
     "start_time": "2021-07-19T03:20:36.201317",
     "status": "completed"
    },
    "tags": []
   },
   "outputs": [],
   "source": [
    "from sklearn.naive_bayes import MultinomialNB"
   ]
  },
  {
   "cell_type": "code",
   "execution_count": 10,
   "id": "constant-review",
   "metadata": {
    "execution": {
     "iopub.execute_input": "2021-07-19T03:20:36.259065Z",
     "iopub.status.busy": "2021-07-19T03:20:36.258465Z",
     "iopub.status.idle": "2021-07-19T03:20:36.264187Z",
     "shell.execute_reply": "2021-07-19T03:20:36.263609Z",
     "shell.execute_reply.started": "2021-06-21T08:27:21.137008Z"
    },
    "papermill": {
     "duration": 0.023108,
     "end_time": "2021-07-19T03:20:36.264329",
     "exception": false,
     "start_time": "2021-07-19T03:20:36.241221",
     "status": "completed"
    },
    "tags": []
   },
   "outputs": [],
   "source": [
    "from sklearn.pipeline import Pipeline\n",
    "clf=Pipeline([\n",
    "    ('vectorizer',CountVectorizer()),\n",
    "    ('nb',MultinomialNB())\n",
    "])"
   ]
  },
  {
   "cell_type": "markdown",
   "id": "original-cancer",
   "metadata": {
    "papermill": {
     "duration": 0.013373,
     "end_time": "2021-07-19T03:20:36.291684",
     "exception": false,
     "start_time": "2021-07-19T03:20:36.278311",
     "status": "completed"
    },
    "tags": []
   },
   "source": [
    "# Tarining The Model"
   ]
  },
  {
   "cell_type": "code",
   "execution_count": 11,
   "id": "distinct-begin",
   "metadata": {
    "execution": {
     "iopub.execute_input": "2021-07-19T03:20:36.363035Z",
     "iopub.status.busy": "2021-07-19T03:20:36.357802Z",
     "iopub.status.idle": "2021-07-19T03:20:36.410994Z",
     "shell.execute_reply": "2021-07-19T03:20:36.410414Z",
     "shell.execute_reply.started": "2021-06-21T08:27:21.154277Z"
    },
    "papermill": {
     "duration": 0.105864,
     "end_time": "2021-07-19T03:20:36.411128",
     "exception": false,
     "start_time": "2021-07-19T03:20:36.305264",
     "status": "completed"
    },
    "tags": []
   },
   "outputs": [
    {
     "data": {
      "text/plain": [
       "Pipeline(steps=[('vectorizer', CountVectorizer()), ('nb', MultinomialNB())])"
      ]
     },
     "execution_count": 11,
     "metadata": {},
     "output_type": "execute_result"
    }
   ],
   "source": [
    "clf.fit(X_train,y_train)"
   ]
  },
  {
   "cell_type": "markdown",
   "id": "better-seminar",
   "metadata": {
    "papermill": {
     "duration": 0.01348,
     "end_time": "2021-07-19T03:20:36.438844",
     "exception": false,
     "start_time": "2021-07-19T03:20:36.425364",
     "status": "completed"
    },
    "tags": []
   },
   "source": [
    "**Here I given Two email Two detect 1st One is looking good and the other one looking spam**"
   ]
  },
  {
   "cell_type": "code",
   "execution_count": 12,
   "id": "polar-berry",
   "metadata": {
    "execution": {
     "iopub.execute_input": "2021-07-19T03:20:36.470035Z",
     "iopub.status.busy": "2021-07-19T03:20:36.469461Z",
     "iopub.status.idle": "2021-07-19T03:20:36.472348Z",
     "shell.execute_reply": "2021-07-19T03:20:36.471893Z",
     "shell.execute_reply.started": "2021-06-21T08:27:21.253141Z"
    },
    "papermill": {
     "duration": 0.020018,
     "end_time": "2021-07-19T03:20:36.472487",
     "exception": false,
     "start_time": "2021-07-19T03:20:36.452469",
     "status": "completed"
    },
    "tags": []
   },
   "outputs": [],
   "source": [
    "emails=[\n",
    "    'Sounds great! Are you home now?',\n",
    "    'Will u meet ur dream partner soon? Is ur career off 2 a flyng start? 2 find out free, txt HORO followed by ur star sign, e. g. HORO ARIES'\n",
    "]"
   ]
  },
  {
   "cell_type": "markdown",
   "id": "changed-editor",
   "metadata": {
    "papermill": {
     "duration": 0.013316,
     "end_time": "2021-07-19T03:20:36.499495",
     "exception": false,
     "start_time": "2021-07-19T03:20:36.486179",
     "status": "completed"
    },
    "tags": []
   },
   "source": [
    "**Predict Email**"
   ]
  },
  {
   "cell_type": "code",
   "execution_count": 13,
   "id": "hollywood-inspector",
   "metadata": {
    "execution": {
     "iopub.execute_input": "2021-07-19T03:20:36.531960Z",
     "iopub.status.busy": "2021-07-19T03:20:36.531394Z",
     "iopub.status.idle": "2021-07-19T03:20:36.535364Z",
     "shell.execute_reply": "2021-07-19T03:20:36.534796Z",
     "shell.execute_reply.started": "2021-06-21T08:27:21.260501Z"
    },
    "papermill": {
     "duration": 0.022444,
     "end_time": "2021-07-19T03:20:36.535493",
     "exception": false,
     "start_time": "2021-07-19T03:20:36.513049",
     "status": "completed"
    },
    "tags": []
   },
   "outputs": [
    {
     "data": {
      "text/plain": [
       "array([0, 1])"
      ]
     },
     "execution_count": 13,
     "metadata": {},
     "output_type": "execute_result"
    }
   ],
   "source": [
    "clf.predict(emails)"
   ]
  },
  {
   "cell_type": "markdown",
   "id": "iraqi-slovak",
   "metadata": {
    "papermill": {
     "duration": 0.015023,
     "end_time": "2021-07-19T03:20:36.564702",
     "exception": false,
     "start_time": "2021-07-19T03:20:36.549679",
     "status": "completed"
    },
    "tags": []
   },
   "source": [
    "# Prediction Of Model"
   ]
  },
  {
   "cell_type": "code",
   "execution_count": 14,
   "id": "bacterial-fighter",
   "metadata": {
    "execution": {
     "iopub.execute_input": "2021-07-19T03:20:36.629316Z",
     "iopub.status.busy": "2021-07-19T03:20:36.628682Z",
     "iopub.status.idle": "2021-07-19T03:20:36.636253Z",
     "shell.execute_reply": "2021-07-19T03:20:36.636648Z",
     "shell.execute_reply.started": "2021-06-21T08:27:21.274113Z"
    },
    "papermill": {
     "duration": 0.052091,
     "end_time": "2021-07-19T03:20:36.636831",
     "exception": false,
     "start_time": "2021-07-19T03:20:36.584740",
     "status": "completed"
    },
    "tags": []
   },
   "outputs": [
    {
     "data": {
      "text/plain": [
       "0.9827709978463748"
      ]
     },
     "execution_count": 14,
     "metadata": {},
     "output_type": "execute_result"
    }
   ],
   "source": [
    "clf.score(X_test,y_test)"
   ]
  }
 ],
 "metadata": {
  "kernelspec": {
   "display_name": "Python 3",
   "language": "python",
   "name": "python3"
  },
  "language_info": {
   "codemirror_mode": {
    "name": "ipython",
    "version": 3
   },
   "file_extension": ".py",
   "mimetype": "text/x-python",
   "name": "python",
   "nbconvert_exporter": "python",
   "pygments_lexer": "ipython3",
   "version": "3.7.10"
  },
  "papermill": {
   "default_parameters": {},
   "duration": 9.748983,
   "end_time": "2021-07-19T03:20:37.363154",
   "environment_variables": {},
   "exception": null,
   "input_path": "__notebook__.ipynb",
   "output_path": "__notebook__.ipynb",
   "parameters": {},
   "start_time": "2021-07-19T03:20:27.614171",
   "version": "2.3.3"
  }
 },
 "nbformat": 4,
 "nbformat_minor": 5
}
